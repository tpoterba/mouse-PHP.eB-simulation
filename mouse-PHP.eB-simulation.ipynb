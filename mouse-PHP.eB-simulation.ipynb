{
 "cells": [
  {
   "cell_type": "code",
   "execution_count": 1,
   "metadata": {},
   "outputs": [
    {
     "name": "stderr",
     "output_type": "stream",
     "text": [
      "Running on Apache Spark version 2.4.1\n",
      "SparkUI available at http://192.168.0.79:4040\n",
      "Welcome to\n",
      "     __  __     <>__\n",
      "    / /_/ /__  __/ /\n",
      "   / __  / _ `/ / /\n",
      "  /_/ /_/\\_,_/_/_/   version 0.2.19-c6ec8b76eb26\n",
      "LOGGING: writing to mouse_simulation.log\n"
     ]
    }
   ],
   "source": [
    "import hail as hl\n",
    "hl.init(log='mouse_simulation.log')"
   ]
  },
  {
   "cell_type": "code",
   "execution_count": 2,
   "metadata": {},
   "outputs": [],
   "source": [
    "high = hl.read_table('./all_high_array.ht')\n",
    "high_or_med = hl.read_table('./all_high_med_array.ht')"
   ]
  },
  {
   "cell_type": "code",
   "execution_count": 3,
   "metadata": {},
   "outputs": [
    {
     "name": "stdout",
     "output_type": "stream",
     "text": [
      "----------------------------------------\n",
      "Global fields:\n",
      "    'ids': array<str> \n",
      "----------------------------------------\n",
      "Row fields:\n",
      "    'mice': array<int32> \n",
      "----------------------------------------\n",
      "Key: []\n",
      "----------------------------------------\n"
     ]
    }
   ],
   "source": [
    "# Schema of table\n",
    "high.describe()"
   ]
  },
  {
   "cell_type": "code",
   "execution_count": 4,
   "metadata": {},
   "outputs": [
    {
     "data": {
      "text/plain": [
       "['129P2_OlaHsd',\n",
       " '129S1_SvImJ',\n",
       " '129S5SvEvBrd',\n",
       " 'AKR_J',\n",
       " 'A_J',\n",
       " 'BALB_cJ',\n",
       " 'BTBR_T+_Itpr3tf_J',\n",
       " 'BUB_BnJ',\n",
       " 'C3H_HeH',\n",
       " 'C3H_HeJ',\n",
       " 'C57BL_10J',\n",
       " 'C57BL_6NJ',\n",
       " 'C57BR_cdJ',\n",
       " 'C57L_J',\n",
       " 'C58_J',\n",
       " 'CAST_EiJ',\n",
       " 'CBA_J',\n",
       " 'DBA_1J',\n",
       " 'DBA_2J',\n",
       " 'FVB_NJ',\n",
       " 'I_LnJ',\n",
       " 'KK_HiJ',\n",
       " 'LEWES_EiJ',\n",
       " 'LP_J',\n",
       " 'MOLF_EiJ',\n",
       " 'NOD_ShiLtJ',\n",
       " 'NZB_B1NJ',\n",
       " 'NZO_HlLtJ',\n",
       " 'NZW_LacJ',\n",
       " 'PWK_PhJ',\n",
       " 'RF_J',\n",
       " 'SEA_GnJ',\n",
       " 'SPRET_EiJ',\n",
       " 'ST_bJ',\n",
       " 'WSB_EiJ',\n",
       " 'ZALENDE_EiJ']"
      ]
     },
     "execution_count": 4,
     "metadata": {},
     "output_type": "execute_result"
    }
   ],
   "source": [
    "# All mice available in tables\n",
    "hl.eval(high.ids)"
   ]
  },
  {
   "cell_type": "code",
   "execution_count": 5,
   "metadata": {},
   "outputs": [],
   "source": [
    "# not all mice are commercially available. The available ones are below:\n",
    "available_mice = [\n",
    "    'BALB_cJ',\n",
    "    'CBA_J',\n",
    "    'CAST_EiJ',\n",
    "    'NOD_ShiLtJ',\n",
    "    'FVB_NJ',\n",
    "    'C57BL_6NJ',\n",
    "    'C57L_J',\n",
    "    'DBA_2J',\n",
    "    'AKR_J',\n",
    "    'LP_J',\n",
    "    'NZB_B1NJ',\n",
    "    'MOLF_EiJ',\n",
    "    'PWK_PhJ',\n",
    "    '129S1_SvImJ',\n",
    "    'A_J',\n",
    "    'BTBR_T+_Itpr3tf_J',\n",
    "    'NZO_HlLtJ',\n",
    "    'NZW_LacJ',\n",
    "    'C3H_HeJ',\n",
    "    'C57BL_10J',\n",
    "    'C57BR_cdJ',\n",
    "    'DBA_1J',\n",
    "    'LEWES_EiJ',\n",
    "    'SPRET_EiJ',\n",
    "    'WSB_EiJ',\n",
    "]"
   ]
  },
  {
   "cell_type": "code",
   "execution_count": 6,
   "metadata": {},
   "outputs": [],
   "source": [
    "from numpy.random import beta, shuffle, uniform\n",
    "import numpy as np\n",
    "from pprint import pprint\n",
    "\n",
    "\n",
    "def print_header():\n",
    "    print(f\"\"\"{\"N\":>4}{\"MEAN\":>8}{\"SD\":>8}{\"MED\":>8}{\".05\":>8}{\".95\":>8}\"\"\")\n",
    "    print(f\"\"\"{\"-\":>4}{\"----\":>8}{\"--\":>8}{\"---\":>8}{\"---\":>8}{\"---\":>8}\"\"\")\n",
    "\n",
    "\n",
    "def ff(x):  # format float\n",
    "    return f'{x:.1f}'\n",
    "\n",
    "\n",
    "def simulate(ht, n_mice, replicates):\n",
    "    assert n_mice >= 2\n",
    "    meta = []\n",
    "    result = []\n",
    "    to_do = replicates\n",
    "\n",
    "    # mapping from name to position in the table's array\n",
    "    table_mapping = hl.eval(\n",
    "        hl.dict(hl.zip_with_index(ht.ids).map(lambda t: (t[1], t[0]))))\n",
    "\n",
    "    def index(l):\n",
    "        new_l = []\n",
    "        for name in l:\n",
    "            idx = table_mapping[name]\n",
    "            assert idx < 36, idx\n",
    "            new_l.append(idx)\n",
    "        return new_l\n",
    "\n",
    "    pos_neg_array = []  # array of (positive, negative) mouse indices\n",
    "\n",
    "    for i in range(replicates):\n",
    "        pos = []  # c57 is the reference\n",
    "        neg = ['BALB_cJ']\n",
    "        candidates = [\n",
    "            m for m in available_mice if m not in pos and m not in neg]\n",
    "        shuffle(candidates)\n",
    "\n",
    "        # draw phenotype from a beta distribution, using prior of 1 pos, 1 neg\n",
    "        p = beta(2, 2)\n",
    "\n",
    "        for i in range(n_mice - 2):\n",
    "            # sample individual mouse phenotypes according to `p`\n",
    "            draw = uniform(0, 1)\n",
    "            if draw < p:\n",
    "                pos.append(candidates[i])\n",
    "            else:\n",
    "                neg.append(candidates[i])\n",
    "        pos_neg_array.append((index(pos), index(neg)))\n",
    "        meta.append((len(pos), len(neg), pos, neg, p))\n",
    "\n",
    "    ht = ht.annotate_globals(pos_neg_array=hl.literal(pos_neg_array,\n",
    "                                                      dtype='array<tuple(array<int>, array<int>)>'))\n",
    "    result = ht.aggregate(\n",
    "        hl.agg.array_agg(array=hl.range(0, replicates),\n",
    "                         f=lambda i: hl.agg.count_where(ht.pos_neg_array[i][0].all(lambda x: ht.mice[x] == 0) &\n",
    "                                                        ht.pos_neg_array[i][1].all(lambda x: ht.mice[x] == 2))))\n",
    "    pct = np.nanpercentile(result, [5, 50, 95])\n",
    "    print(f'{n_mice:>4}'\n",
    "          f'{ff(np.mean(result)):>8}'\n",
    "          f'{ff(np.std(result)):>8}'\n",
    "          f'{ff(pct[1]):>8}'\n",
    "          f'{ff(pct[0]):>8}'\n",
    "          f'{ff(pct[2]):>8}')"
   ]
  },
  {
   "cell_type": "code",
   "execution_count": 7,
   "metadata": {},
   "outputs": [
    {
     "name": "stdout",
     "output_type": "stream",
     "text": [
      "   N    MEAN      SD     MED     .05     .95\n",
      "   -    ----      --     ---     ---     ---\n",
      "   3  8762.6  3383.6  8572.0  3746.0 13706.0\n",
      "   4  4301.5  2594.7  3906.5   312.7  8872.6\n",
      "   5  2202.2  1915.6  1686.0    36.0  6180.1\n",
      "   6  1234.4  1269.0   800.0     4.0  4028.5\n",
      "   7   733.3   939.6   378.5     1.0  2671.1\n",
      "   8   363.8   576.2   134.5     0.0  1602.3\n",
      "   9   236.5   470.7    63.0     0.0  1150.1\n",
      "  10   139.0   303.8    27.0     0.0   803.0\n",
      "  11    78.8   195.0     8.0     0.0   517.6\n",
      "  12    56.2   157.8     2.0     0.0   381.6\n",
      "  13    36.8   112.1     1.0     0.0   206.9\n",
      "  14    26.9    92.8     0.0     0.0   139.4\n"
     ]
    }
   ],
   "source": [
    "# run simulation for high and medium consequence variants\n",
    "print_header()\n",
    "for i in range(3, 15):\n",
    "    simulate(high_or_med, i, 1000)"
   ]
  },
  {
   "cell_type": "code",
   "execution_count": 8,
   "metadata": {},
   "outputs": [
    {
     "name": "stdout",
     "output_type": "stream",
     "text": [
      "   N    MEAN      SD     MED     .05     .95\n",
      "   -    ----      --     ---     ---     ---\n",
      "   3   194.5    86.4   184.0    70.0   336.0\n",
      "   4    88.6    60.7    73.0    15.0   212.0\n",
      "   5    45.7    42.2    33.0     2.0   141.0\n",
      "   6    23.8    26.2    15.0     0.0    75.0\n",
      "   7    13.8    18.7     7.5     0.0    54.0\n",
      "   8     7.8    14.1     2.0     0.0    31.0\n",
      "   9     4.6     9.7     1.0     0.0    19.0\n",
      "  10     2.9     7.0     0.0     0.0    14.0\n",
      "  11     1.8     4.5     0.0     0.0    10.0\n",
      "  12     1.0     3.3     0.0     0.0     7.0\n",
      "  13     0.9     2.6     0.0     0.0     7.0\n",
      "  14     0.6     2.1     0.0     0.0     5.0\n"
     ]
    }
   ],
   "source": [
    "# run simulation for high consequence variants\n",
    "print_header()\n",
    "for i in range(3, 15):\n",
    "    simulate(high, i, 1000)"
   ]
  }
 ],
 "metadata": {
  "kernelspec": {
   "display_name": "Python 3",
   "language": "python",
   "name": "python3"
  },
  "language_info": {
   "codemirror_mode": {
    "name": "ipython",
    "version": 3
   },
   "file_extension": ".py",
   "mimetype": "text/x-python",
   "name": "python",
   "nbconvert_exporter": "python",
   "pygments_lexer": "ipython3",
   "version": "3.6.8"
  }
 },
 "nbformat": 4,
 "nbformat_minor": 2
}
